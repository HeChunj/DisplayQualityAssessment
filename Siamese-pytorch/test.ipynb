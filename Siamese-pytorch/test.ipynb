{
 "cells": [
  {
   "cell_type": "code",
   "execution_count": 73,
   "metadata": {},
   "outputs": [
    {
     "name": "stdout",
     "output_type": "stream",
     "text": [
      "Loading weights into state dict...\n",
      "/home/hechunjiang/gradio/Siamese-pytorch/model_data/best_epoch_weights_kadid10k.pth model loaded.\n",
      "Configurations:\n",
      "----------------------------------------------------------------------\n",
      "|                     keys |                                   values|\n",
      "----------------------------------------------------------------------\n",
      "|               model_path | /home/hechunjiang/gradio/Siamese-pytorch/model_data/best_epoch_weights_kadid10k.pth|\n",
      "|              input_shape |                               [256, 256]|\n",
      "|          letterbox_image |                                    False|\n",
      "|                     cuda |                                     True|\n",
      "----------------------------------------------------------------------\n",
      "tensor([0.1246], device='cuda:0')\n"
     ]
    },
    {
     "ename": "",
     "evalue": "",
     "output_type": "error",
     "traceback": [
      "\u001b[1;31m在当前单元格或上一个单元格中执行代码时 Kernel 崩溃。\n",
      "\u001b[1;31m请查看单元格中的代码，以确定故障的可能原因。\n",
      "\u001b[1;31m单击<a href='https://aka.ms/vscodeJupyterKernelCrash'>此处</a>了解详细信息。\n",
      "\u001b[1;31m有关更多详细信息，请查看 Jupyter <a href='command:jupyter.viewOutput'>log</a>。"
     ]
    }
   ],
   "source": [
    "import numpy as np\n",
    "from PIL import Image\n",
    "\n",
    "from siamese import Siamese\n",
    "\n",
    "if __name__ == \"__main__\":\n",
    "    model = Siamese()\n",
    "    # /home/hechunjiang/gradio/样品2 SONY 43吋\n",
    "    # /home/hechunjiang/gradio/样品3 亚马逊 43吋\n",
    "    image_1 = Image.open(\"/home/hechunjiang/gradio/样品1 LG 65UF8580/华为P50手机采集图像/样品1采集图像/2.jpg\")\n",
    "    image_2 = Image.open(\"/home/hechunjiang/gradio/样品1 LG 65UF8580/华为P50手机采集图像/监视器采集图像/2.jpg\")\n",
    "    # image_1 = Image.open(\"/data/hechunjiang/KADID-10k/kadid10k/images/I01_01_05.png\")\n",
    "    # image_2 = Image.open(\"/data/hechunjiang/KADID-10k/kadid10k/images/I01.png\")\n",
    "    # image_1 = Image.open(\"/home/hechunjiang/gradio/GeoFormer/croped_result/finetune_dst/2/cropped_image_28.png\")\n",
    "    # image_2 = Image.open(\"/home/hechunjiang/gradio/GeoFormer/croped_result/finetune_ref/2/cropped_image_28.png\")\n",
    "    probability = model.detect_image(image_1,image_2)\n",
    "    print(probability)"
   ]
  },
  {
   "cell_type": "code",
   "execution_count": 49,
   "metadata": {},
   "outputs": [
    {
     "name": "stdout",
     "output_type": "stream",
     "text": [
      "Loading weights into state dict...\n"
     ]
    },
    {
     "name": "stderr",
     "output_type": "stream",
     "text": [
      "/home/hechunjiang/gradio/Siamese-pytorch/siamese.py:65: FutureWarning: You are using `torch.load` with `weights_only=False` (the current default value), which uses the default pickle module implicitly. It is possible to construct malicious pickle data which will execute arbitrary code during unpickling (See https://github.com/pytorch/pytorch/blob/main/SECURITY.md#untrusted-models for more details). In a future release, the default value for `weights_only` will be flipped to `True`. This limits the functions that could be executed during unpickling. Arbitrary objects will no longer be allowed to be loaded via this mode unless they are explicitly allowlisted by the user via `torch.serialization.add_safe_globals`. We recommend you start setting `weights_only=True` for any use case where you don't have full control of the loaded file. Please open an issue on GitHub for any issues related to this experimental feature.\n",
      "  model.load_state_dict(torch.load(self.model_path, map_location=device))\n"
     ]
    },
    {
     "name": "stdout",
     "output_type": "stream",
     "text": [
      "/home/hechunjiang/gradio/Siamese-pytorch/model_data/best_epoch_weights_kadid10k.pth model loaded.\n",
      "Configurations:\n",
      "----------------------------------------------------------------------\n",
      "|                     keys |                                   values|\n",
      "----------------------------------------------------------------------\n",
      "|               model_path | /home/hechunjiang/gradio/Siamese-pytorch/model_data/best_epoch_weights_kadid10k.pth|\n",
      "|              input_shape |                               [256, 256]|\n",
      "|          letterbox_image |                                    False|\n",
      "|                     cuda |                                     True|\n",
      "----------------------------------------------------------------------\n",
      "image 1 score = [0.12125875]\n",
      "image 2 score = [-0.04923417]\n",
      "image 3 score = [-0.4031631]\n",
      "image 4 score = [0.04928949]\n",
      "image 5 score = [0.13532683]\n",
      "image 6 score = [0.16486607]\n",
      "image 7 score = [-0.06446891]\n",
      "image 8 score = [-0.06683374]\n",
      "image 9 score = [0.11771034]\n",
      "image 10 score = [1.0069098]\n",
      "image 11 score = [-0.1761303]\n",
      "image 12 score = [0.08591401]\n",
      "image 13 score = [0.15264116]\n",
      "image 14 score = [0.08300321]\n",
      "image 15 score = [0.06680089]\n",
      "image 16 score = [-0.03336156]\n",
      "image 17 score = [0.08602937]\n",
      "image 18 score = [0.02484857]\n",
      "image 19 score = [0.15614969]\n",
      "image 20 score = [0.38175234]\n",
      "image 21 score = [0.04441146]\n"
     ]
    }
   ],
   "source": [
    "import numpy as np\n",
    "from PIL import Image\n",
    "\n",
    "from siamese import Siamese\n",
    "import os\n",
    "\n",
    "scores = [[] for _ in range(22)]\n",
    "\n",
    "if __name__ == \"__main__\":\n",
    "    model = Siamese()\n",
    "    img_list_1 = []\n",
    "    img_list_2 = []\n",
    "    for i in range(1, 22):\n",
    "        img_list_1 = os.listdir(\n",
    "            f\"/home/hechunjiang/gradio/GeoFormer/croped_result/finetune_dst/{i}/\")\n",
    "        img_list_2 = os.listdir(\n",
    "            f\"/home/hechunjiang/gradio/GeoFormer/croped_result/finetune_ref/{i}/\")\n",
    "\n",
    "        img_list_1.sort(key=lambda x: int(x.split(\"_\")[-1].split(\".\")[0]))\n",
    "        img_list_2.sort(key=lambda x: int(x.split(\"_\")[-1].split(\".\")[0]))\n",
    "        for path1, path2 in zip(img_list_1, img_list_2):\n",
    "            image_1 = Image.open(\n",
    "                f\"/home/hechunjiang/gradio/GeoFormer/croped_result/finetune_dst/{i}/{path1}\")\n",
    "            image_2 = Image.open(\n",
    "                f\"/home/hechunjiang/gradio/GeoFormer/croped_result/finetune_ref/{i}/{path2}\")\n",
    "            scores[i].append(model.detect_image(image_1, image_2).cpu().numpy())\n",
    "        score = sum(scores[i]) / len(scores[i])\n",
    "        print(f\"image {i} score = {score}\")"
   ]
  },
  {
   "cell_type": "code",
   "execution_count": 60,
   "metadata": {},
   "outputs": [],
   "source": [
    "s = [[] for _ in range(22)]\n",
    "for i in range(22):\n",
    "    for x in scores[i]:\n",
    "        s[i].append(x[0])"
   ]
  },
  {
   "cell_type": "code",
   "execution_count": 71,
   "metadata": {},
   "outputs": [
    {
     "data": {
      "image/png": "[encoded data removed]",
      "text/plain": [
       "<Figure size 800x500 with 1 Axes>"
      ]
     },
     "metadata": {},
     "output_type": "display_data"
    }
   ],
   "source": [
    "import matplotlib.pyplot as plt\n",
    "img_idx = 1\n",
    "# 绘制直方图\n",
    "plt.figure(figsize=(8, 5))\n",
    "plt.hist(s[img_idx], bins=10, color='skyblue', edgecolor='black')\n",
    "plt.title('Scores Distribution')\n",
    "plt.xlabel('Score')\n",
    "plt.ylabel('Frequency')\n",
    "plt.show()\n"
   ]
  }
 ],
 "metadata": {
  "kernelspec": {
   "display_name": "siamese",
   "language": "python",
   "name": "python3"
  },
  "language_info": {
   "codemirror_mode": {
    "name": "ipython",
    "version": 3
   },
   "file_extension": ".py",
   "mimetype": "text/x-python",
   "name": "python",
   "nbconvert_exporter": "python",
   "pygments_lexer": "ipython3",
   "version": "3.9.19"
  }
 },
 "nbformat": 4,
 "nbformat_minor": 2
}
